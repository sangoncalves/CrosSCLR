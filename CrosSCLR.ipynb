{
  "nbformat": 4,
  "nbformat_minor": 0,
  "metadata": {
    "colab": {
      "name": "CrosSCLR.ipynb",
      "provenance": [],
      "collapsed_sections": [],
      "authorship_tag": "ABX9TyPtXtaaBUR/QRTt7FZRS5mm",
      "include_colab_link": true
    },
    "kernelspec": {
      "name": "python3",
      "display_name": "Python 3"
    },
    "language_info": {
      "name": "python"
    }
  },
  "cells": [
    {
      "cell_type": "markdown",
      "metadata": {
        "id": "view-in-github",
        "colab_type": "text"
      },
      "source": [
        "<a href=\"https://colab.research.google.com/github/sangoncalves/CrosSCLR/blob/main/CrosSCLR.ipynb\" target=\"_parent\"><img src=\"https://colab.research.google.com/assets/colab-badge.svg\" alt=\"Open In Colab\"/></a>"
      ]
    },
    {
      "cell_type": "code",
      "metadata": {
        "id": "MkhUvZn1CEWq",
        "colab": {
          "base_uri": "https://localhost:8080/"
        },
        "outputId": "0d3a4b32-f5ba-4a89-abb6-3a4b1aad0892"
      },
      "source": [
        "!git clone https://github.com/sangoncalves/CrosSCLR\n",
        "%cd /content/CrosSCLR/\n",
        "!unzip \"/content/CrosSCLR/data/NTU-RGB-D/xsub/train_data.zip\" -d \"/content/CrosSCLR/data/NTU-RGB-D/xsub/\"\n",
        "!unzip \"/content/CrosSCLR/data/NTU-RGB-D/xview/train_data.zip\" -d \"/content/CrosSCLR/data/NTU-RGB-D/xview/\"\n",
        "!pip install tensorboardX\n",
        "import yaml\n",
        "!pip install -U PyYAML\n",
        "yaml.__version__"
      ],
      "execution_count": null,
      "outputs": [
        {
          "output_type": "stream",
          "name": "stdout",
          "text": [
            "Cloning into 'CrosSCLR'...\n",
            "remote: warning: multi-pack bitmap is missing required reverse index\u001b[K\n",
            "remote: Enumerating objects: 1045, done.\u001b[K\n",
            "remote: Counting objects: 100% (1045/1045), done.\u001b[K\n",
            "remote: Compressing objects: 100% (1008/1008), done.\u001b[K\n",
            "remote: Total 1045 (delta 31), reused 1045 (delta 31), pack-reused 0\u001b[K\n",
            "Receiving objects: 100% (1045/1045), 281.06 MiB | 23.14 MiB/s, done.\n",
            "Resolving deltas: 100% (31/31), done.\n",
            "Checking out files: 100% (1007/1007), done.\n",
            "/content/CrosSCLR\n",
            "Archive:  /content/CrosSCLR/data/NTU-RGB-D/xsub/train_data.zip\n",
            "  inflating: /content/CrosSCLR/data/NTU-RGB-D/xsub/train_data.npy  \n",
            "Archive:  /content/CrosSCLR/data/NTU-RGB-D/xview/train_data.zip\n",
            "  inflating: /content/CrosSCLR/data/NTU-RGB-D/xview/train_data.npy  \n"
          ]
        }
      ]
    },
    {
      "cell_type": "code",
      "metadata": {
        "colab": {
          "base_uri": "https://localhost:8080/"
        },
        "id": "tF-fsdvFJ149",
        "outputId": "352879cb-52fb-46d1-9fe7-36a69a20e4d8"
      },
      "source": [
        "#Train\n",
        "!python main.py pretrain_crossclr_3views --config config/CrosSCLR/crossclr_3views_xview.yaml"
      ],
      "execution_count": null,
      "outputs": [
        {
          "output_type": "stream",
          "name": "stdout",
          "text": [
            "Traceback (most recent call last):\n",
            "  File \"main.py\", line 13, in <module>\n",
            "    from processor.processor import init_seed\n",
            "  File \"/content/CrosSCLR/processor/processor.py\", line 19, in <module>\n",
            "    from torchlight import str2bool\n",
            "ImportError: cannot import name 'str2bool' from 'torchlight' (unknown location)\n"
          ]
        }
      ]
    },
    {
      "cell_type": "code",
      "metadata": {
        "colab": {
          "base_uri": "https://localhost:8080/",
          "height": 301
        },
        "id": "qdUuFu97M9oy",
        "outputId": "c58517f2-9d81-47f1-aa3c-22c4a10f9ccf"
      },
      "source": [
        ""
      ],
      "execution_count": 16,
      "outputs": [
        {
          "output_type": "stream",
          "name": "stdout",
          "text": [
            "Requirement already satisfied: PyYAML in /usr/local/lib/python3.7/dist-packages (3.13)\n",
            "Collecting PyYAML\n",
            "  Downloading PyYAML-6.0-cp37-cp37m-manylinux_2_5_x86_64.manylinux1_x86_64.manylinux_2_12_x86_64.manylinux2010_x86_64.whl (596 kB)\n",
            "\u001b[K     |████████████████████████████████| 596 kB 10.4 MB/s \n",
            "\u001b[?25hInstalling collected packages: PyYAML\n",
            "  Attempting uninstall: PyYAML\n",
            "    Found existing installation: PyYAML 3.13\n",
            "    Uninstalling PyYAML-3.13:\n",
            "      Successfully uninstalled PyYAML-3.13\n",
            "Successfully installed PyYAML-6.0\n"
          ]
        },
        {
          "output_type": "display_data",
          "data": {
            "application/vnd.colab-display-data+json": {
              "pip_warning": {
                "packages": [
                  "yaml"
                ]
              }
            }
          },
          "metadata": {}
        },
        {
          "output_type": "execute_result",
          "data": {
            "application/vnd.google.colaboratory.intrinsic+json": {
              "type": "string"
            },
            "text/plain": [
              "'3.13'"
            ]
          },
          "metadata": {},
          "execution_count": 16
        }
      ]
    },
    {
      "cell_type": "code",
      "metadata": {
        "colab": {
          "base_uri": "https://localhost:8080/"
        },
        "id": "WhgJZEXmL0rD",
        "outputId": "dfed8d11-7a8a-4593-ba04-7609178d4e86"
      },
      "source": [
        "#Evaluate\n",
        "!python main.py linear_evaluation --config config/linear_eval/linear_eval_crossclr_3views_xview.yaml --weights weights/crossclr_3views_xview_frame50_channel16_cross150_epoch300.pt!"
      ],
      "execution_count": 28,
      "outputs": [
        {
          "output_type": "stream",
          "name": "stdout",
          "text": [
            "Traceback (most recent call last):\n",
            "  File \"main.py\", line 12, in <module>\n",
            "    from torchlight.torchlight import import_class\n",
            "  File \"/content/CrosSCLR/torchlight/torchlight/__init__.py\", line 2, in <module>\n",
            "    from processor.io import IO\n",
            "  File \"/content/CrosSCLR/processor/io.py\", line 14, in <module>\n",
            "    from .torchlight.torchlight import str2bool\n",
            "ModuleNotFoundError: No module named 'processor.torchlight'\n"
          ]
        }
      ]
    },
    {
      "cell_type": "code",
      "metadata": {
        "id": "wy-wX9mYIr2G"
      },
      "source": [
        "!pip install wandb -qqq\n",
        "import wandb\n",
        "wandb.login()\n",
        "# wandb.init(project=\"Act_Rec_Ske-2s-AGCN\", entity=\"sango\")"
      ],
      "execution_count": null,
      "outputs": []
    }
  ]
}